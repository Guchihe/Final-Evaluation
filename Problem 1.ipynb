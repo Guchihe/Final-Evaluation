{
 "cells": [
  {
   "cell_type": "markdown",
   "metadata": {},
   "source": [
    "# Final Evaluation\n",
    "## Problem 1.\n",
    "### a) Finding the a polynomial to fit the data"
   ]
  },
  {
   "cell_type": "markdown",
   "metadata": {},
   "source": [
    "Loading the packages and reading the data."
   ]
  },
  {
   "cell_type": "code",
   "execution_count": 1,
   "metadata": {},
   "outputs": [],
   "source": [
    "from scipy import stats\n",
    "import numpy as np\n",
    "import pandas as pd \n",
    "import math\n",
    "import matplotlib.pyplot as plt\n",
    "from random import seed\n",
    "import numpy.polynomial.polynomial as poly\n",
    "#from numpy.polynomial import Polynomial"
   ]
  },
  {
   "cell_type": "code",
   "execution_count": 2,
   "metadata": {
    "scrolled": true
   },
   "outputs": [
    {
     "data": {
      "text/html": [
       "<div>\n",
       "<style scoped>\n",
       "    .dataframe tbody tr th:only-of-type {\n",
       "        vertical-align: middle;\n",
       "    }\n",
       "\n",
       "    .dataframe tbody tr th {\n",
       "        vertical-align: top;\n",
       "    }\n",
       "\n",
       "    .dataframe thead th {\n",
       "        text-align: right;\n",
       "    }\n",
       "</style>\n",
       "<table border=\"1\" class=\"dataframe\">\n",
       "  <thead>\n",
       "    <tr style=\"text-align: right;\">\n",
       "      <th></th>\n",
       "      <th>X_training</th>\n",
       "      <th>Y_training</th>\n",
       "      <th>X_test</th>\n",
       "      <th>Y_test</th>\n",
       "    </tr>\n",
       "  </thead>\n",
       "  <tbody>\n",
       "    <tr>\n",
       "      <th>0</th>\n",
       "      <td>-2.00</td>\n",
       "      <td>22.067387</td>\n",
       "      <td>2.00</td>\n",
       "      <td>6.024049</td>\n",
       "    </tr>\n",
       "    <tr>\n",
       "      <th>1</th>\n",
       "      <td>-1.97</td>\n",
       "      <td>19.944915</td>\n",
       "      <td>2.05</td>\n",
       "      <td>6.885408</td>\n",
       "    </tr>\n",
       "    <tr>\n",
       "      <th>2</th>\n",
       "      <td>-1.94</td>\n",
       "      <td>18.062490</td>\n",
       "      <td>2.10</td>\n",
       "      <td>7.578968</td>\n",
       "    </tr>\n",
       "    <tr>\n",
       "      <th>3</th>\n",
       "      <td>-1.91</td>\n",
       "      <td>16.384313</td>\n",
       "      <td>2.15</td>\n",
       "      <td>8.439467</td>\n",
       "    </tr>\n",
       "    <tr>\n",
       "      <th>4</th>\n",
       "      <td>-1.88</td>\n",
       "      <td>14.567798</td>\n",
       "      <td>2.20</td>\n",
       "      <td>9.554611</td>\n",
       "    </tr>\n",
       "    <tr>\n",
       "      <th>...</th>\n",
       "      <td>...</td>\n",
       "      <td>...</td>\n",
       "      <td>...</td>\n",
       "      <td>...</td>\n",
       "    </tr>\n",
       "    <tr>\n",
       "      <th>119</th>\n",
       "      <td>1.57</td>\n",
       "      <td>4.096029</td>\n",
       "      <td>NaN</td>\n",
       "      <td>NaN</td>\n",
       "    </tr>\n",
       "    <tr>\n",
       "      <th>120</th>\n",
       "      <td>1.60</td>\n",
       "      <td>4.341366</td>\n",
       "      <td>NaN</td>\n",
       "      <td>NaN</td>\n",
       "    </tr>\n",
       "    <tr>\n",
       "      <th>121</th>\n",
       "      <td>1.63</td>\n",
       "      <td>4.355296</td>\n",
       "      <td>NaN</td>\n",
       "      <td>NaN</td>\n",
       "    </tr>\n",
       "    <tr>\n",
       "      <th>122</th>\n",
       "      <td>1.66</td>\n",
       "      <td>4.061534</td>\n",
       "      <td>NaN</td>\n",
       "      <td>NaN</td>\n",
       "    </tr>\n",
       "    <tr>\n",
       "      <th>123</th>\n",
       "      <td>1.69</td>\n",
       "      <td>4.214335</td>\n",
       "      <td>NaN</td>\n",
       "      <td>NaN</td>\n",
       "    </tr>\n",
       "  </tbody>\n",
       "</table>\n",
       "<p>124 rows × 4 columns</p>\n",
       "</div>"
      ],
      "text/plain": [
       "     X_training  Y_training  X_test    Y_test\n",
       "0         -2.00   22.067387    2.00  6.024049\n",
       "1         -1.97   19.944915    2.05  6.885408\n",
       "2         -1.94   18.062490    2.10  7.578968\n",
       "3         -1.91   16.384313    2.15  8.439467\n",
       "4         -1.88   14.567798    2.20  9.554611\n",
       "..          ...         ...     ...       ...\n",
       "119        1.57    4.096029     NaN       NaN\n",
       "120        1.60    4.341366     NaN       NaN\n",
       "121        1.63    4.355296     NaN       NaN\n",
       "122        1.66    4.061534     NaN       NaN\n",
       "123        1.69    4.214335     NaN       NaN\n",
       "\n",
       "[124 rows x 4 columns]"
      ]
     },
     "execution_count": 2,
     "metadata": {},
     "output_type": "execute_result"
    }
   ],
   "source": [
    "data = pd.read_csv('problem1.csv')\n",
    "data.head(-10)"
   ]
  },
  {
   "cell_type": "markdown",
   "metadata": {},
   "source": [
    "Setting and checking the data"
   ]
  },
  {
   "cell_type": "code",
   "execution_count": 3,
   "metadata": {},
   "outputs": [],
   "source": [
    "x_train = data.X_training\n",
    "y_train = data.Y_training"
   ]
  },
  {
   "cell_type": "markdown",
   "metadata": {},
   "source": [
    "Plotting raw data"
   ]
  },
  {
   "cell_type": "code",
   "execution_count": 4,
   "metadata": {},
   "outputs": [
    {
     "data": {
      "image/png": "[encoded data removed]",
      "text/plain": [
       "<Figure size 432x288 with 1 Axes>"
      ]
     },
     "metadata": {
      "needs_background": "light"
     },
     "output_type": "display_data"
    }
   ],
   "source": [
    "ax = plt.plot(x_train, y_train,'bs',alpha=0.2,)\n",
    "plt.xlabel('X')\n",
    "plt.ylabel('Y')\n",
    "plt.savefig('fdx.pdf', format='pdf', dpi=1200, bbox_inches=\"tight\")\n",
    "plt.show()"
   ]
  },
  {
   "cell_type": "markdown",
   "metadata": {},
   "source": [
    "### Polynomial Fitting"
   ]
  },
  {
   "cell_type": "markdown",
   "metadata": {},
   "source": [
    "Using the Polynomial Module from Numpy in order to fit a polynomial to the data using the least square method."
   ]
  },
  {
   "cell_type": "code",
   "execution_count": 5,
   "metadata": {},
   "outputs": [],
   "source": [
    "coef = poly.polyfit(x_train, y_train, 8,rcond=None,w=None) # Assuming a Polynomyal degree 8"
   ]
  },
  {
   "cell_type": "markdown",
   "metadata": {},
   "source": [
    "#### Creating and plotting the resulting Polynomial Model "
   ]
  },
  {
   "cell_type": "code",
   "execution_count": 6,
   "metadata": {},
   "outputs": [
    {
     "data": {
      "text/latex": [
       "$x \\mapsto \\text{6.007938949185451} + \\text{8.037968100328243}\\,x - \\text{6.063208668293324}\\,x^{2} - \\text{3.0250349986092853}\\,x^{3} + \\text{2.0950040571004425}\\,x^{4} + \\text{0.008001051821497561}\\,x^{5} - \\text{0.04294316587790551}\\,x^{6} - \\text{0.0011211379393194442}\\,x^{7} + \\text{0.005735129230568854}\\,x^{8}$"
      ],
      "text/plain": [
       "Polynomial([ 6.00793895e+00,  8.03796810e+00, -6.06320867e+00, -3.02503500e+00,\n",
       "        2.09500406e+00,  8.00105182e-03, -4.29431659e-02, -1.12113794e-03,\n",
       "        5.73512923e-03], domain=[-1,  1], window=[-1,  1])"
      ]
     },
     "execution_count": 6,
     "metadata": {},
     "output_type": "execute_result"
    }
   ],
   "source": [
    "model = poly.Polynomial(coef)\n",
    "model"
   ]
  },
  {
   "cell_type": "code",
   "execution_count": 7,
   "metadata": {},
   "outputs": [
    {
     "data": {
      "image/png": "[encoded data removed]",
      "text/plain": [
       "<Figure size 432x288 with 1 Axes>"
      ]
     },
     "metadata": {
      "needs_background": "light"
     },
     "output_type": "display_data"
    }
   ],
   "source": [
    "plt.plot(x_train, y_train,'bs',alpha=0.2, label='Data')\n",
    "plt.plot(x_train,model(x_train),'r', label='Polynomial')\n",
    "plt.legend(loc='best', frameon=False)\n",
    "plt.xlabel('x')\n",
    "plt.ylabel('y')\n",
    "plt.show()"
   ]
  },
  {
   "cell_type": "markdown",
   "metadata": {},
   "source": [
    "### b) Finding the best polynomial to fit the data"
   ]
  },
  {
   "cell_type": "code",
   "execution_count": 8,
   "metadata": {},
   "outputs": [],
   "source": [
    "Pol_Max = 15 #We will check for polynomials with max degree 15\n",
    "RSSv = [] \n",
    "RSSv = np.zeros(Pol_Max-1)\n",
    "AICv = []\n",
    "AICv = np.zeros(Pol_Max-1)"
   ]
  },
  {
   "cell_type": "markdown",
   "metadata": {},
   "source": [
    "Checking different polynomials  and calculating the corresponding RSS and AIC."
   ]
  },
  {
   "cell_type": "code",
   "execution_count": 9,
   "metadata": {},
   "outputs": [],
   "source": [
    "for i in np.arange(0,Pol_Max-1,1):\n",
    "        coef = poly.polyfit(x_train, y_train, i+1)        \n",
    "        model = poly.Polynomial(coef)\n",
    "        RSSv[i]=0.5*np.sum((y_train-model(x_train))**2)\n",
    "        AICv[i]=len(x_train)*math.log10(RSSv[i]/len(x_train))+ 2*len(coef)*len(x_train)/(len(x_train)-len(coef)-1)"
   ]
  },
  {
   "cell_type": "markdown",
   "metadata": {},
   "source": [
    "#### Plotting the RSS and AIC."
   ]
  },
  {
   "cell_type": "code",
   "execution_count": 10,
   "metadata": {},
   "outputs": [
    {
     "name": "stderr",
     "output_type": "stream",
     "text": [
      "No handles with labels found to put in legend.\n",
      "No handles with labels found to put in legend.\n"
     ]
    },
    {
     "data": {
      "image/png": "[encoded data removed]",
      "text/plain": [
       "<Figure size 432x288 with 2 Axes>"
      ]
     },
     "metadata": {
      "needs_background": "light"
     },
     "output_type": "display_data"
    }
   ],
   "source": [
    "fig, (ax1, ax2) = plt.subplots(1, 2)\n",
    "ax1.plot(np.arange(0,Pol_Max-1,1)+1, RSSv,'r',alpha=0.3)\n",
    "ax1.set_yscale('log')\n",
    "ax1.legend(loc='best', frameon=False)\n",
    "ax1.set(xlabel='Polynomial Grade', ylabel='RSS')\n",
    "ax1.set(xlim=(0, Pol_Max))\n",
    "ax1.set_title('(a)')\n",
    "# Second #figure\n",
    "fig.tight_layout(pad=5.0)\n",
    "ax2.plot(np.arange(0,Pol_Max-1,1)+1, AICv,'b',alpha=0.3)\n",
    "ax2.set(xlabel='Polynomial Grade', ylabel='RSS')\n",
    "ax2.legend(loc='best', frameon=False)\n",
    "ax2.set(xlabel='Polynomial Grade', ylabel='AIC')\n",
    "ax2.set(xlim=(0, Pol_Max))\n",
    "ax2.set_title('(b)')\n",
    "plt.savefig('AIC.pdf', format='pdf', dpi=1200, bbox_inches=\"tight\")\n",
    "plt.show()"
   ]
  },
  {
   "cell_type": "markdown",
   "metadata": {},
   "source": [
    "With the graphs is clear that the degree with lowest RSS and AIC is 4. Remember that the lower AIC does not implies the best model, insted the corresponding polynomial model of degree 4 is better model that the others we checked."
   ]
  },
  {
   "cell_type": "code",
   "execution_count": 11,
   "metadata": {},
   "outputs": [
    {
     "data": {
      "text/plain": [
       "4"
      ]
     },
     "execution_count": 11,
     "metadata": {},
     "output_type": "execute_result"
    }
   ],
   "source": [
    "grade = np.argmin(AICv)+1\n",
    "grade"
   ]
  },
  {
   "cell_type": "code",
   "execution_count": 12,
   "metadata": {},
   "outputs": [
    {
     "data": {
      "text/plain": [
       "array([ 6.0000592 ,  8.02956741, -5.99141415, -3.00869471,  1.99588109])"
      ]
     },
     "execution_count": 12,
     "metadata": {},
     "output_type": "execute_result"
    }
   ],
   "source": [
    "poly.polyfit(x_train, y_train, grade)"
   ]
  },
  {
   "cell_type": "markdown",
   "metadata": {},
   "source": [
    "Then, we choose the next polynomial."
   ]
  },
  {
   "cell_type": "code",
   "execution_count": 13,
   "metadata": {},
   "outputs": [
    {
     "data": {
      "text/latex": [
       "$x \\mapsto \\text{6.000059202668222} + \\text{8.029567412979471}\\,x - \\text{5.991414146668385}\\,x^{2} - \\text{3.0086947131582304}\\,x^{3} + \\text{1.9958810906630036}\\,x^{4}$"
      ],
      "text/plain": [
       "Polynomial([ 6.0000592 ,  8.02956741, -5.99141415, -3.00869471,  1.99588109], domain=[-1,  1], window=[-1,  1])"
      ]
     },
     "execution_count": 13,
     "metadata": {},
     "output_type": "execute_result"
    }
   ],
   "source": [
    "coef4 = poly.polyfit(x_train, y_train, 4,rcond=None,w=None)\n",
    "model4 = poly.Polynomial(coef4)\n",
    "model4"
   ]
  },
  {
   "cell_type": "markdown",
   "metadata": {},
   "source": [
    "### c) Cross Validating the polynomial with the testing data"
   ]
  },
  {
   "cell_type": "markdown",
   "metadata": {},
   "source": [
    "Loading the testing data and checking the predicton with the polinomyal of degree 4."
   ]
  },
  {
   "cell_type": "code",
   "execution_count": 16,
   "metadata": {},
   "outputs": [],
   "source": [
    "x_test = data.X_test\n",
    "y_test = data.Y_test\n",
    "x_test = x_test[~np.isnan(x_test)]\n",
    "y_test = y_test[~np.isnan(y_test)]"
   ]
  },
  {
   "cell_type": "code",
   "execution_count": 17,
   "metadata": {},
   "outputs": [
    {
     "data": {
      "image/png": "[encoded data removed]",
      "text/plain": [
       "<Figure size 432x288 with 1 Axes>"
      ]
     },
     "metadata": {
      "needs_background": "light"
     },
     "output_type": "display_data"
    }
   ],
   "source": [
    "plt.plot(x_test, y_test,'bs',alpha=0.1, label='Data')\n",
    "plt.plot(x_test, model4(x_test),'r', label='f(x)')\n",
    "plt.legend(loc='best', frameon=False)\n",
    "plt.xlabel('x')\n",
    "plt.ylabel('y')\n",
    "plt.show()"
   ]
  },
  {
   "cell_type": "markdown",
   "metadata": {},
   "source": [
    "#### Now, we use the cross validation technique to confirm that this is the best model among the other degree that we checked."
   ]
  },
  {
   "cell_type": "markdown",
   "metadata": {},
   "source": [
    "I had problems when I've tried to use cross_val_score because the previous 'model4' is not an estimator that the package support, so I had to create another one, that also works and it is supported."
   ]
  },
  {
   "cell_type": "code",
   "execution_count": 29,
   "metadata": {},
   "outputs": [],
   "source": [
    "from sklearn.base import BaseEstimator\n",
    "from sklearn.linear_model import LinearRegression\n",
    "from sklearn.metrics import mean_squared_error\n",
    "\n",
    "class PolynomialRegression(BaseEstimator):\n",
    "    def __init__(self, deg=None):\n",
    "        self.deg = deg\n",
    "    \n",
    "    def fit(self, X, y, deg=None):\n",
    "        self.model = LinearRegression(fit_intercept=False)\n",
    "        self.model.fit(np.vander(X, N=self.deg + 1), y)\n",
    "    \n",
    "    def predict(self, x):\n",
    "        return self.model.predict(np.vander(x, N=self.deg + 1))\n",
    "    \n",
    "    @property\n",
    "    def coef_(self):\n",
    "        return self.model.coef_"
   ]
  },
  {
   "cell_type": "code",
   "execution_count": 39,
   "metadata": {},
   "outputs": [
    {
     "data": {
      "image/png": "[encoded data removed]",
      "text/plain": [
       "<Figure size 432x288 with 1 Axes>"
      ]
     },
     "metadata": {
      "needs_background": "light"
     },
     "output_type": "display_data"
    }
   ],
   "source": [
    "plt.plot(x_train, y_train,'bs',alpha=0.2, label='Data')\n",
    "plt.plot(x_train, pol.predict(x_train),'r', label='Polynomial')\n",
    "plt.legend(loc='best', frameon=False)\n",
    "plt.xlabel('x')\n",
    "plt.ylabel('y')\n",
    "plt.show()"
   ]
  },
  {
   "cell_type": "code",
   "execution_count": 57,
   "metadata": {},
   "outputs": [
    {
     "name": "stderr",
     "output_type": "stream",
     "text": [
      "No handles with labels found to put in legend.\n",
      "No handles with labels found to put in legend.\n"
     ]
    },
    {
     "data": {
      "image/png": "[encoded data removed]",
      "text/plain": [
       "<Figure size 432x288 with 2 Axes>"
      ]
     },
     "metadata": {
      "needs_background": "light"
     },
     "output_type": "display_data"
    }
   ],
   "source": [
    "Pol_Max = 15 #We will check for polynomials with max degree 15\n",
    "RSSv = [] \n",
    "RSSv = np.zeros(Pol_Max-1)\n",
    "AICv = []\n",
    "AICv = np.zeros(Pol_Max-1)\n",
    "\n",
    "for i in np.arange(0,Pol_Max-1,1):\n",
    "        poli = PolynomialRegression(deg=i+1)\n",
    "        poli.fit(x_train, y_train)\n",
    "        coef = poli.coef_\n",
    "        RSSv[i]=0.5*np.sum((y_train-poli.predict(x_train))**2)\n",
    "        AICv[i]=len(x_train)*math.log10(RSSv[i]/len(x_train))+ 2*len(coef)*len(x_train)/(len(x_train)-len(coef)-1)\n",
    "\n",
    "fig, (ax1, ax2) = plt.subplots(1, 2)\n",
    "ax1.plot(np.arange(0,Pol_Max-1,1)+1, RSSv,'r',alpha=0.3)\n",
    "ax1.set_yscale('log')\n",
    "ax1.legend(loc='best', frameon=False)\n",
    "ax1.set(xlabel='Polynomial Grade', ylabel='RSS')\n",
    "ax1.set(xlim=(0, Pol_Max))\n",
    "ax1.set_title('(a)')\n",
    "# Second #figure\n",
    "fig.tight_layout(pad=5.0)\n",
    "ax2.plot(np.arange(0,Pol_Max-1,1)+1, AICv,'b',alpha=0.3)\n",
    "ax2.set(xlabel='Polynomial Grade', ylabel='RSS')\n",
    "ax2.legend(loc='best', frameon=False)\n",
    "ax2.set(xlabel='Polynomial Grade', ylabel='AIC')\n",
    "ax2.set(xlim=(0, Pol_Max))\n",
    "ax2.set_title('(b)')\n",
    "plt.savefig('AIC.pdf', format='pdf', dpi=1200, bbox_inches=\"tight\")\n",
    "plt.show()"
   ]
  },
  {
   "cell_type": "code",
   "execution_count": 58,
   "metadata": {},
   "outputs": [
    {
     "data": {
      "text/plain": [
       "4"
      ]
     },
     "execution_count": 58,
     "metadata": {},
     "output_type": "execute_result"
    }
   ],
   "source": [
    "grade = np.argmin(AICv)+1\n",
    "grade"
   ]
  },
  {
   "cell_type": "code",
   "execution_count": 38,
   "metadata": {},
   "outputs": [
    {
     "data": {
      "text/plain": [
       "array([ 1.99588109, -3.00869471, -5.99141415,  8.02956741,  6.0000592 ])"
      ]
     },
     "execution_count": 38,
     "metadata": {},
     "output_type": "execute_result"
    }
   ],
   "source": [
    "pol = PolynomialRegression(deg=4)\n",
    "pol.fit(x_train, y_train)\n",
    "pol.coef_"
   ]
  },
  {
   "cell_type": "markdown",
   "metadata": {},
   "source": [
    "With this, we check that all works in the same way, so let's continue with the cross validation."
   ]
  },
  {
   "cell_type": "code",
   "execution_count": 77,
   "metadata": {},
   "outputs": [],
   "source": [
    "X = np.append(x_train,x_test)\n",
    "y = np.append(y_train,y_test)"
   ]
  },
  {
   "cell_type": "code",
   "execution_count": 79,
   "metadata": {},
   "outputs": [
    {
     "data": {
      "text/plain": [
       "({'deg': 4},\n",
       " array([ 1.99991007, -3.00376068, -6.00032098,  8.02203263,  6.00194025]))"
      ]
     },
     "execution_count": 79,
     "metadata": {},
     "output_type": "execute_result"
    }
   ],
   "source": [
    "from sklearn.model_selection import GridSearchCV\n",
    "MODEL = PolynomialRegression()\n",
    "degrees = np.arange(1, 25)\n",
    "cv_model = GridSearchCV(MODEL,\n",
    "                        param_grid={'deg': degrees},\n",
    "                        scoring='neg_mean_squared_error')\n",
    "cv_model.fit(X,y);\n",
    "cv_model.best_params_, cv_model.best_estimator_.coef_"
   ]
  },
  {
   "cell_type": "code",
   "execution_count": 82,
   "metadata": {},
   "outputs": [
    {
     "data": {
      "text/html": [
       "<div>\n",
       "<style scoped>\n",
       "    .dataframe tbody tr th:only-of-type {\n",
       "        vertical-align: middle;\n",
       "    }\n",
       "\n",
       "    .dataframe tbody tr th {\n",
       "        vertical-align: top;\n",
       "    }\n",
       "\n",
       "    .dataframe thead th {\n",
       "        text-align: right;\n",
       "    }\n",
       "</style>\n",
       "<table border=\"1\" class=\"dataframe\">\n",
       "  <thead>\n",
       "    <tr style=\"text-align: right;\">\n",
       "      <th></th>\n",
       "      <th>mean_fit_time</th>\n",
       "      <th>std_fit_time</th>\n",
       "      <th>mean_score_time</th>\n",
       "      <th>std_score_time</th>\n",
       "      <th>param_deg</th>\n",
       "      <th>params</th>\n",
       "      <th>split0_test_score</th>\n",
       "      <th>split1_test_score</th>\n",
       "      <th>split2_test_score</th>\n",
       "      <th>split3_test_score</th>\n",
       "      <th>split4_test_score</th>\n",
       "      <th>mean_test_score</th>\n",
       "      <th>std_test_score</th>\n",
       "      <th>rank_test_score</th>\n",
       "    </tr>\n",
       "  </thead>\n",
       "  <tbody>\n",
       "    <tr>\n",
       "      <th>0</th>\n",
       "      <td>0.0004</td>\n",
       "      <td>2.000333e-04</td>\n",
       "      <td>0.0003</td>\n",
       "      <td>0.000245</td>\n",
       "      <td>1</td>\n",
       "      <td>{'deg': 1}</td>\n",
       "      <td>-2.193720e+02</td>\n",
       "      <td>-27.765978</td>\n",
       "      <td>-0.363018</td>\n",
       "      <td>-50.176340</td>\n",
       "      <td>-3.628006e+02</td>\n",
       "      <td>-1.320956e+02</td>\n",
       "      <td>1.384131e+02</td>\n",
       "      <td>7</td>\n",
       "    </tr>\n",
       "    <tr>\n",
       "      <th>1</th>\n",
       "      <td>0.0002</td>\n",
       "      <td>2.448728e-04</td>\n",
       "      <td>0.0003</td>\n",
       "      <td>0.000245</td>\n",
       "      <td>2</td>\n",
       "      <td>{'deg': 2}</td>\n",
       "      <td>-3.710167e+01</td>\n",
       "      <td>-12.435596</td>\n",
       "      <td>-99.768053</td>\n",
       "      <td>-17.222279</td>\n",
       "      <td>-1.612003e+02</td>\n",
       "      <td>-6.554558e+01</td>\n",
       "      <td>5.707167e+01</td>\n",
       "      <td>6</td>\n",
       "    </tr>\n",
       "    <tr>\n",
       "      <th>2</th>\n",
       "      <td>0.0005</td>\n",
       "      <td>3.814697e-07</td>\n",
       "      <td>0.0001</td>\n",
       "      <td>0.000200</td>\n",
       "      <td>3</td>\n",
       "      <td>{'deg': 3}</td>\n",
       "      <td>-2.252102e+03</td>\n",
       "      <td>-51.480645</td>\n",
       "      <td>-90.362979</td>\n",
       "      <td>-11.983813</td>\n",
       "      <td>-4.032481e+03</td>\n",
       "      <td>-1.287682e+03</td>\n",
       "      <td>1.615747e+03</td>\n",
       "      <td>9</td>\n",
       "    </tr>\n",
       "    <tr>\n",
       "      <th>3</th>\n",
       "      <td>0.0003</td>\n",
       "      <td>2.449313e-04</td>\n",
       "      <td>0.0002</td>\n",
       "      <td>0.000245</td>\n",
       "      <td>4</td>\n",
       "      <td>{'deg': 4}</td>\n",
       "      <td>-1.176407e-02</td>\n",
       "      <td>-0.008359</td>\n",
       "      <td>-0.008148</td>\n",
       "      <td>-0.013170</td>\n",
       "      <td>-1.199638e-01</td>\n",
       "      <td>-3.228094e-02</td>\n",
       "      <td>4.388422e-02</td>\n",
       "      <td>1</td>\n",
       "    </tr>\n",
       "    <tr>\n",
       "      <th>4</th>\n",
       "      <td>0.0003</td>\n",
       "      <td>2.450091e-04</td>\n",
       "      <td>0.0003</td>\n",
       "      <td>0.000245</td>\n",
       "      <td>5</td>\n",
       "      <td>{'deg': 5}</td>\n",
       "      <td>-1.251214e-02</td>\n",
       "      <td>-0.008433</td>\n",
       "      <td>-0.008304</td>\n",
       "      <td>-0.013221</td>\n",
       "      <td>-4.395890e-01</td>\n",
       "      <td>-9.641192e-02</td>\n",
       "      <td>1.716005e-01</td>\n",
       "      <td>2</td>\n",
       "    </tr>\n",
       "    <tr>\n",
       "      <th>5</th>\n",
       "      <td>0.0003</td>\n",
       "      <td>2.450091e-04</td>\n",
       "      <td>0.0002</td>\n",
       "      <td>0.000245</td>\n",
       "      <td>6</td>\n",
       "      <td>{'deg': 6}</td>\n",
       "      <td>-4.106462e-01</td>\n",
       "      <td>-0.009867</td>\n",
       "      <td>-0.008550</td>\n",
       "      <td>-0.013364</td>\n",
       "      <td>-2.735150e+00</td>\n",
       "      <td>-6.355154e-01</td>\n",
       "      <td>1.061190e+00</td>\n",
       "      <td>3</td>\n",
       "    </tr>\n",
       "    <tr>\n",
       "      <th>6</th>\n",
       "      <td>0.0004</td>\n",
       "      <td>2.000333e-04</td>\n",
       "      <td>0.0002</td>\n",
       "      <td>0.000245</td>\n",
       "      <td>7</td>\n",
       "      <td>{'deg': 7}</td>\n",
       "      <td>-2.460083e+00</td>\n",
       "      <td>-0.009416</td>\n",
       "      <td>-0.008354</td>\n",
       "      <td>-0.013493</td>\n",
       "      <td>-5.018422e+01</td>\n",
       "      <td>-1.053511e+01</td>\n",
       "      <td>1.984724e+01</td>\n",
       "      <td>4</td>\n",
       "    </tr>\n",
       "    <tr>\n",
       "      <th>7</th>\n",
       "      <td>0.0002</td>\n",
       "      <td>2.451064e-04</td>\n",
       "      <td>0.0002</td>\n",
       "      <td>0.000245</td>\n",
       "      <td>8</td>\n",
       "      <td>{'deg': 8}</td>\n",
       "      <td>-3.542043e+01</td>\n",
       "      <td>-0.007889</td>\n",
       "      <td>-0.008614</td>\n",
       "      <td>-0.018482</td>\n",
       "      <td>-1.407278e+02</td>\n",
       "      <td>-3.523665e+01</td>\n",
       "      <td>5.449922e+01</td>\n",
       "      <td>5</td>\n",
       "    </tr>\n",
       "    <tr>\n",
       "      <th>8</th>\n",
       "      <td>0.0003</td>\n",
       "      <td>2.450482e-04</td>\n",
       "      <td>0.0002</td>\n",
       "      <td>0.000245</td>\n",
       "      <td>9</td>\n",
       "      <td>{'deg': 9}</td>\n",
       "      <td>-7.128185e-01</td>\n",
       "      <td>-0.010979</td>\n",
       "      <td>-0.008497</td>\n",
       "      <td>-0.018215</td>\n",
       "      <td>-3.209918e+03</td>\n",
       "      <td>-6.421337e+02</td>\n",
       "      <td>1.283892e+03</td>\n",
       "      <td>8</td>\n",
       "    </tr>\n",
       "    <tr>\n",
       "      <th>9</th>\n",
       "      <td>0.0002</td>\n",
       "      <td>2.449896e-04</td>\n",
       "      <td>0.0002</td>\n",
       "      <td>0.000245</td>\n",
       "      <td>10</td>\n",
       "      <td>{'deg': 10}</td>\n",
       "      <td>-1.106807e+02</td>\n",
       "      <td>-0.009543</td>\n",
       "      <td>-0.009205</td>\n",
       "      <td>-0.018756</td>\n",
       "      <td>-5.153625e+04</td>\n",
       "      <td>-1.032939e+04</td>\n",
       "      <td>2.060347e+04</td>\n",
       "      <td>10</td>\n",
       "    </tr>\n",
       "    <tr>\n",
       "      <th>10</th>\n",
       "      <td>0.0003</td>\n",
       "      <td>2.449702e-04</td>\n",
       "      <td>0.0002</td>\n",
       "      <td>0.000245</td>\n",
       "      <td>11</td>\n",
       "      <td>{'deg': 11}</td>\n",
       "      <td>-1.918568e+04</td>\n",
       "      <td>-0.011997</td>\n",
       "      <td>-0.012650</td>\n",
       "      <td>-0.021269</td>\n",
       "      <td>-9.634185e+04</td>\n",
       "      <td>-2.310552e+04</td>\n",
       "      <td>3.736447e+04</td>\n",
       "      <td>11</td>\n",
       "    </tr>\n",
       "    <tr>\n",
       "      <th>11</th>\n",
       "      <td>0.0003</td>\n",
       "      <td>2.450095e-04</td>\n",
       "      <td>0.0001</td>\n",
       "      <td>0.000200</td>\n",
       "      <td>12</td>\n",
       "      <td>{'deg': 12}</td>\n",
       "      <td>-1.727837e+04</td>\n",
       "      <td>-0.008222</td>\n",
       "      <td>-0.020369</td>\n",
       "      <td>-0.021998</td>\n",
       "      <td>-1.632402e+06</td>\n",
       "      <td>-3.299361e+05</td>\n",
       "      <td>6.512674e+05</td>\n",
       "      <td>12</td>\n",
       "    </tr>\n",
       "    <tr>\n",
       "      <th>12</th>\n",
       "      <td>0.0003</td>\n",
       "      <td>2.451259e-04</td>\n",
       "      <td>0.0002</td>\n",
       "      <td>0.000245</td>\n",
       "      <td>13</td>\n",
       "      <td>{'deg': 13}</td>\n",
       "      <td>-2.123734e+05</td>\n",
       "      <td>-0.007951</td>\n",
       "      <td>-0.024589</td>\n",
       "      <td>-0.024351</td>\n",
       "      <td>-2.413839e+07</td>\n",
       "      <td>-4.870152e+06</td>\n",
       "      <td>9.634469e+06</td>\n",
       "      <td>13</td>\n",
       "    </tr>\n",
       "    <tr>\n",
       "      <th>13</th>\n",
       "      <td>0.0005</td>\n",
       "      <td>4.623108e-07</td>\n",
       "      <td>0.0000</td>\n",
       "      <td>0.000000</td>\n",
       "      <td>14</td>\n",
       "      <td>{'deg': 14}</td>\n",
       "      <td>-4.309555e+05</td>\n",
       "      <td>-0.011504</td>\n",
       "      <td>-0.032164</td>\n",
       "      <td>-0.025408</td>\n",
       "      <td>-5.916571e+07</td>\n",
       "      <td>-1.191933e+07</td>\n",
       "      <td>2.362378e+07</td>\n",
       "      <td>14</td>\n",
       "    </tr>\n",
       "    <tr>\n",
       "      <th>14</th>\n",
       "      <td>0.0003</td>\n",
       "      <td>2.448536e-04</td>\n",
       "      <td>0.0002</td>\n",
       "      <td>0.000245</td>\n",
       "      <td>15</td>\n",
       "      <td>{'deg': 15}</td>\n",
       "      <td>-8.235566e+05</td>\n",
       "      <td>-0.011892</td>\n",
       "      <td>-0.029399</td>\n",
       "      <td>-0.021358</td>\n",
       "      <td>-1.349546e+09</td>\n",
       "      <td>-2.700739e+08</td>\n",
       "      <td>5.397362e+08</td>\n",
       "      <td>16</td>\n",
       "    </tr>\n",
       "    <tr>\n",
       "      <th>15</th>\n",
       "      <td>0.0003</td>\n",
       "      <td>2.450091e-04</td>\n",
       "      <td>0.0002</td>\n",
       "      <td>0.000245</td>\n",
       "      <td>16</td>\n",
       "      <td>{'deg': 16}</td>\n",
       "      <td>-8.869294e+07</td>\n",
       "      <td>-0.011480</td>\n",
       "      <td>-0.024001</td>\n",
       "      <td>-0.014600</td>\n",
       "      <td>-2.215708e+08</td>\n",
       "      <td>-6.205274e+07</td>\n",
       "      <td>8.684161e+07</td>\n",
       "      <td>15</td>\n",
       "    </tr>\n",
       "    <tr>\n",
       "      <th>16</th>\n",
       "      <td>0.0002</td>\n",
       "      <td>2.450484e-04</td>\n",
       "      <td>0.0003</td>\n",
       "      <td>0.000245</td>\n",
       "      <td>17</td>\n",
       "      <td>{'deg': 17}</td>\n",
       "      <td>-3.540584e+08</td>\n",
       "      <td>-0.241143</td>\n",
       "      <td>-0.013265</td>\n",
       "      <td>-0.032309</td>\n",
       "      <td>-1.817836e+11</td>\n",
       "      <td>-3.642753e+10</td>\n",
       "      <td>7.267817e+10</td>\n",
       "      <td>18</td>\n",
       "    </tr>\n",
       "    <tr>\n",
       "      <th>17</th>\n",
       "      <td>0.0004</td>\n",
       "      <td>2.000332e-04</td>\n",
       "      <td>0.0001</td>\n",
       "      <td>0.000200</td>\n",
       "      <td>18</td>\n",
       "      <td>{'deg': 18}</td>\n",
       "      <td>-1.656528e+09</td>\n",
       "      <td>-0.556873</td>\n",
       "      <td>-0.012124</td>\n",
       "      <td>-0.073618</td>\n",
       "      <td>-9.266184e+11</td>\n",
       "      <td>-1.856550e+11</td>\n",
       "      <td>3.704823e+11</td>\n",
       "      <td>19</td>\n",
       "    </tr>\n",
       "    <tr>\n",
       "      <th>18</th>\n",
       "      <td>0.0002</td>\n",
       "      <td>2.449312e-04</td>\n",
       "      <td>0.0002</td>\n",
       "      <td>0.000245</td>\n",
       "      <td>19</td>\n",
       "      <td>{'deg': 19}</td>\n",
       "      <td>-1.492539e+09</td>\n",
       "      <td>-0.544639</td>\n",
       "      <td>-0.008232</td>\n",
       "      <td>-0.063104</td>\n",
       "      <td>-7.957304e+09</td>\n",
       "      <td>-1.889968e+09</td>\n",
       "      <td>3.088250e+09</td>\n",
       "      <td>17</td>\n",
       "    </tr>\n",
       "    <tr>\n",
       "      <th>19</th>\n",
       "      <td>0.0004</td>\n",
       "      <td>2.000094e-04</td>\n",
       "      <td>0.0000</td>\n",
       "      <td>0.000000</td>\n",
       "      <td>20</td>\n",
       "      <td>{'deg': 20}</td>\n",
       "      <td>-1.344834e+11</td>\n",
       "      <td>-1.505354</td>\n",
       "      <td>-0.009082</td>\n",
       "      <td>-0.209768</td>\n",
       "      <td>-2.652801e+14</td>\n",
       "      <td>-5.308291e+13</td>\n",
       "      <td>1.060986e+14</td>\n",
       "      <td>20</td>\n",
       "    </tr>\n",
       "    <tr>\n",
       "      <th>20</th>\n",
       "      <td>0.0003</td>\n",
       "      <td>2.449702e-04</td>\n",
       "      <td>0.0002</td>\n",
       "      <td>0.000245</td>\n",
       "      <td>21</td>\n",
       "      <td>{'deg': 21}</td>\n",
       "      <td>-6.555132e+08</td>\n",
       "      <td>-2.250270</td>\n",
       "      <td>-0.011094</td>\n",
       "      <td>-0.301455</td>\n",
       "      <td>-4.698731e+15</td>\n",
       "      <td>-9.397464e+14</td>\n",
       "      <td>1.879492e+15</td>\n",
       "      <td>23</td>\n",
       "    </tr>\n",
       "    <tr>\n",
       "      <th>21</th>\n",
       "      <td>0.0003</td>\n",
       "      <td>2.450091e-04</td>\n",
       "      <td>0.0002</td>\n",
       "      <td>0.000245</td>\n",
       "      <td>22</td>\n",
       "      <td>{'deg': 22}</td>\n",
       "      <td>-8.652344e+09</td>\n",
       "      <td>-2.526244</td>\n",
       "      <td>-0.019520</td>\n",
       "      <td>-0.336400</td>\n",
       "      <td>-4.937951e+14</td>\n",
       "      <td>-9.876076e+13</td>\n",
       "      <td>1.975172e+14</td>\n",
       "      <td>21</td>\n",
       "    </tr>\n",
       "    <tr>\n",
       "      <th>22</th>\n",
       "      <td>0.0002</td>\n",
       "      <td>2.449896e-04</td>\n",
       "      <td>0.0002</td>\n",
       "      <td>0.000245</td>\n",
       "      <td>23</td>\n",
       "      <td>{'deg': 23}</td>\n",
       "      <td>-2.940249e+13</td>\n",
       "      <td>-1.791033</td>\n",
       "      <td>-0.220425</td>\n",
       "      <td>-0.231951</td>\n",
       "      <td>-1.863146e+15</td>\n",
       "      <td>-3.785097e+14</td>\n",
       "      <td>7.424055e+14</td>\n",
       "      <td>22</td>\n",
       "    </tr>\n",
       "    <tr>\n",
       "      <th>23</th>\n",
       "      <td>0.0003</td>\n",
       "      <td>2.448146e-04</td>\n",
       "      <td>0.0002</td>\n",
       "      <td>0.000245</td>\n",
       "      <td>24</td>\n",
       "      <td>{'deg': 24}</td>\n",
       "      <td>-1.645171e+13</td>\n",
       "      <td>-4.449423</td>\n",
       "      <td>-0.207760</td>\n",
       "      <td>-0.309677</td>\n",
       "      <td>-7.018761e+18</td>\n",
       "      <td>-1.403755e+18</td>\n",
       "      <td>2.807503e+18</td>\n",
       "      <td>24</td>\n",
       "    </tr>\n",
       "  </tbody>\n",
       "</table>\n",
       "</div>"
      ],
      "text/plain": [
       "    mean_fit_time  std_fit_time  mean_score_time  std_score_time param_deg  \\\n",
       "0          0.0004  2.000333e-04           0.0003        0.000245         1   \n",
       "1          0.0002  2.448728e-04           0.0003        0.000245         2   \n",
       "2          0.0005  3.814697e-07           0.0001        0.000200         3   \n",
       "3          0.0003  2.449313e-04           0.0002        0.000245         4   \n",
       "4          0.0003  2.450091e-04           0.0003        0.000245         5   \n",
       "5          0.0003  2.450091e-04           0.0002        0.000245         6   \n",
       "6          0.0004  2.000333e-04           0.0002        0.000245         7   \n",
       "7          0.0002  2.451064e-04           0.0002        0.000245         8   \n",
       "8          0.0003  2.450482e-04           0.0002        0.000245         9   \n",
       "9          0.0002  2.449896e-04           0.0002        0.000245        10   \n",
       "10         0.0003  2.449702e-04           0.0002        0.000245        11   \n",
       "11         0.0003  2.450095e-04           0.0001        0.000200        12   \n",
       "12         0.0003  2.451259e-04           0.0002        0.000245        13   \n",
       "13         0.0005  4.623108e-07           0.0000        0.000000        14   \n",
       "14         0.0003  2.448536e-04           0.0002        0.000245        15   \n",
       "15         0.0003  2.450091e-04           0.0002        0.000245        16   \n",
       "16         0.0002  2.450484e-04           0.0003        0.000245        17   \n",
       "17         0.0004  2.000332e-04           0.0001        0.000200        18   \n",
       "18         0.0002  2.449312e-04           0.0002        0.000245        19   \n",
       "19         0.0004  2.000094e-04           0.0000        0.000000        20   \n",
       "20         0.0003  2.449702e-04           0.0002        0.000245        21   \n",
       "21         0.0003  2.450091e-04           0.0002        0.000245        22   \n",
       "22         0.0002  2.449896e-04           0.0002        0.000245        23   \n",
       "23         0.0003  2.448146e-04           0.0002        0.000245        24   \n",
       "\n",
       "         params  split0_test_score  split1_test_score  split2_test_score  \\\n",
       "0    {'deg': 1}      -2.193720e+02         -27.765978          -0.363018   \n",
       "1    {'deg': 2}      -3.710167e+01         -12.435596         -99.768053   \n",
       "2    {'deg': 3}      -2.252102e+03         -51.480645         -90.362979   \n",
       "3    {'deg': 4}      -1.176407e-02          -0.008359          -0.008148   \n",
       "4    {'deg': 5}      -1.251214e-02          -0.008433          -0.008304   \n",
       "5    {'deg': 6}      -4.106462e-01          -0.009867          -0.008550   \n",
       "6    {'deg': 7}      -2.460083e+00          -0.009416          -0.008354   \n",
       "7    {'deg': 8}      -3.542043e+01          -0.007889          -0.008614   \n",
       "8    {'deg': 9}      -7.128185e-01          -0.010979          -0.008497   \n",
       "9   {'deg': 10}      -1.106807e+02          -0.009543          -0.009205   \n",
       "10  {'deg': 11}      -1.918568e+04          -0.011997          -0.012650   \n",
       "11  {'deg': 12}      -1.727837e+04          -0.008222          -0.020369   \n",
       "12  {'deg': 13}      -2.123734e+05          -0.007951          -0.024589   \n",
       "13  {'deg': 14}      -4.309555e+05          -0.011504          -0.032164   \n",
       "14  {'deg': 15}      -8.235566e+05          -0.011892          -0.029399   \n",
       "15  {'deg': 16}      -8.869294e+07          -0.011480          -0.024001   \n",
       "16  {'deg': 17}      -3.540584e+08          -0.241143          -0.013265   \n",
       "17  {'deg': 18}      -1.656528e+09          -0.556873          -0.012124   \n",
       "18  {'deg': 19}      -1.492539e+09          -0.544639          -0.008232   \n",
       "19  {'deg': 20}      -1.344834e+11          -1.505354          -0.009082   \n",
       "20  {'deg': 21}      -6.555132e+08          -2.250270          -0.011094   \n",
       "21  {'deg': 22}      -8.652344e+09          -2.526244          -0.019520   \n",
       "22  {'deg': 23}      -2.940249e+13          -1.791033          -0.220425   \n",
       "23  {'deg': 24}      -1.645171e+13          -4.449423          -0.207760   \n",
       "\n",
       "    split3_test_score  split4_test_score  mean_test_score  std_test_score  \\\n",
       "0          -50.176340      -3.628006e+02    -1.320956e+02    1.384131e+02   \n",
       "1          -17.222279      -1.612003e+02    -6.554558e+01    5.707167e+01   \n",
       "2          -11.983813      -4.032481e+03    -1.287682e+03    1.615747e+03   \n",
       "3           -0.013170      -1.199638e-01    -3.228094e-02    4.388422e-02   \n",
       "4           -0.013221      -4.395890e-01    -9.641192e-02    1.716005e-01   \n",
       "5           -0.013364      -2.735150e+00    -6.355154e-01    1.061190e+00   \n",
       "6           -0.013493      -5.018422e+01    -1.053511e+01    1.984724e+01   \n",
       "7           -0.018482      -1.407278e+02    -3.523665e+01    5.449922e+01   \n",
       "8           -0.018215      -3.209918e+03    -6.421337e+02    1.283892e+03   \n",
       "9           -0.018756      -5.153625e+04    -1.032939e+04    2.060347e+04   \n",
       "10          -0.021269      -9.634185e+04    -2.310552e+04    3.736447e+04   \n",
       "11          -0.021998      -1.632402e+06    -3.299361e+05    6.512674e+05   \n",
       "12          -0.024351      -2.413839e+07    -4.870152e+06    9.634469e+06   \n",
       "13          -0.025408      -5.916571e+07    -1.191933e+07    2.362378e+07   \n",
       "14          -0.021358      -1.349546e+09    -2.700739e+08    5.397362e+08   \n",
       "15          -0.014600      -2.215708e+08    -6.205274e+07    8.684161e+07   \n",
       "16          -0.032309      -1.817836e+11    -3.642753e+10    7.267817e+10   \n",
       "17          -0.073618      -9.266184e+11    -1.856550e+11    3.704823e+11   \n",
       "18          -0.063104      -7.957304e+09    -1.889968e+09    3.088250e+09   \n",
       "19          -0.209768      -2.652801e+14    -5.308291e+13    1.060986e+14   \n",
       "20          -0.301455      -4.698731e+15    -9.397464e+14    1.879492e+15   \n",
       "21          -0.336400      -4.937951e+14    -9.876076e+13    1.975172e+14   \n",
       "22          -0.231951      -1.863146e+15    -3.785097e+14    7.424055e+14   \n",
       "23          -0.309677      -7.018761e+18    -1.403755e+18    2.807503e+18   \n",
       "\n",
       "    rank_test_score  \n",
       "0                 7  \n",
       "1                 6  \n",
       "2                 9  \n",
       "3                 1  \n",
       "4                 2  \n",
       "5                 3  \n",
       "6                 4  \n",
       "7                 5  \n",
       "8                 8  \n",
       "9                10  \n",
       "10               11  \n",
       "11               12  \n",
       "12               13  \n",
       "13               14  \n",
       "14               16  \n",
       "15               15  \n",
       "16               18  \n",
       "17               19  \n",
       "18               17  \n",
       "19               20  \n",
       "20               23  \n",
       "21               21  \n",
       "22               22  \n",
       "23               24  "
      ]
     },
     "execution_count": 82,
     "metadata": {},
     "output_type": "execute_result"
    }
   ],
   "source": [
    "df = pd.DataFrame(cv_model.cv_results_)\n",
    "df"
   ]
  },
  {
   "cell_type": "code",
   "execution_count": null,
   "metadata": {},
   "outputs": [],
   "source": []
  }
 ],
 "metadata": {
  "kernelspec": {
   "display_name": "Python 3",
   "language": "python",
   "name": "python3"
  },
  "language_info": {
   "codemirror_mode": {
    "name": "ipython",
    "version": 3
   },
   "file_extension": ".py",
   "mimetype": "text/x-python",
   "name": "python",
   "nbconvert_exporter": "python",
   "pygments_lexer": "ipython3",
   "version": "3.8.3"
  }
 },
 "nbformat": 4,
 "nbformat_minor": 4
}
